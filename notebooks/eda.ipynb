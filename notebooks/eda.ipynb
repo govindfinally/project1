{
 "cells": [
  // ...existing code...
  {
   "cell_type": "code",
   "metadata": {},
   "source": [
    "import pandas as pd\n",
    "data = pd.read_csv('students_performance.csv')\n",
    "reading_below_20 = data[data['reading score'] < 20].shape[0]\n",
    "math_below_20 = data[data['math score'] < 20].shape[0]\n",
    "writing_below_20 = data[data['writing score'] < 20].shape[0]\n",
    "print(f'Students with less than 20 marks in reading: {reading_below_20}')\n",
    "print(f'Students with less than 20 marks in math: {math_below_20}')\n",
    "print(f'Students with less than 20 marks in writing: {writing_below_20}')\n"
   ]
  }
  // ...existing code...
 ]
}
